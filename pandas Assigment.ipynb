{
 "cells": [
  {
   "cell_type": "code",
   "execution_count": null,
   "id": "5d4eef22-f8b7-41d6-8b48-d673f1f31358",
   "metadata": {},
   "outputs": [],
   "source": []
  },
  {
   "cell_type": "code",
   "execution_count": 8,
   "id": "729c40a9-abd4-4f98-a34e-e08417f162e6",
   "metadata": {
    "tags": []
   },
   "outputs": [
    {
     "name": "stdout",
     "output_type": "stream",
     "text": [
      "   Rank                       Name Platform    Year         Genre Publisher   \n",
      "0     1                 Wii Sports      Wii  2006.0        Sports  Nintendo  \\\n",
      "1     2          Super Mario Bros.      NES  1985.0      Platform  Nintendo   \n",
      "2     3             Mario Kart Wii      Wii  2008.0        Racing  Nintendo   \n",
      "3     4          Wii Sports Resort      Wii  2009.0        Sports  Nintendo   \n",
      "4     5   Pokemon Red/Pokemon Blue       GB  1996.0  Role-Playing  Nintendo   \n",
      "5     6                     Tetris       GB  1989.0        Puzzle  Nintendo   \n",
      "6     7      New Super Mario Bros.       DS  2006.0      Platform  Nintendo   \n",
      "7     8                   Wii Play      Wii  2006.0          Misc  Nintendo   \n",
      "8     9  New Super Mario Bros. Wii      Wii  2009.0      Platform  Nintendo   \n",
      "9    10                  Duck Hunt      NES  1984.0       Shooter  Nintendo   \n",
      "\n",
      "   NA_Sales  EU_Sales  JP_Sales  Other_Sales  Global_Sales  \n",
      "0     41.49     29.02      3.77         8.46         82.74  \n",
      "1     29.08      3.58      6.81         0.77         40.24  \n",
      "2     15.85     12.88      3.79         3.31         35.82  \n",
      "3     15.75     11.01      3.28         2.96         33.00  \n",
      "4     11.27      8.89     10.22         1.00         31.37  \n",
      "5     23.20      2.26      4.22         0.58         30.26  \n",
      "6     11.38      9.23      6.50         2.90         30.01  \n",
      "7     14.03      9.20      2.93         2.85         29.02  \n",
      "8     14.59      7.06      4.70         2.26         28.62  \n",
      "9     26.93      0.63      0.28         0.47         28.31  \n"
     ]
    }
   ],
   "source": [
    "import pandas as pd\n",
    "path=r'C:\\Users\\user\\Documents\\AFRICA DATA SCHOOL\\vgsales.csv'\n",
    "#C:\\Users\\user\\Documents\\AFRICA DATA SCHOOL\n",
    "VG=pd.read_csv(path)\n",
    "print(VG.head(10))\n",
    "\n",
    "#print(path.head(10))"
   ]
  },
  {
   "cell_type": "markdown",
   "id": "cb7b7a68-e692-483c-9a60-a20ac46eff43",
   "metadata": {},
   "source": [
    "Display the shape and basic information about the dataset."
   ]
  },
  {
   "cell_type": "code",
   "execution_count": 9,
   "id": "1f28f766-6207-4003-b9f7-852ea25b59ed",
   "metadata": {
    "tags": []
   },
   "outputs": [
    {
     "name": "stdout",
     "output_type": "stream",
     "text": [
      "Shape of the dataset: (16598, 11)\n",
      "\n",
      "Information about the dataset:\n",
      "<class 'pandas.core.frame.DataFrame'>\n",
      "RangeIndex: 16598 entries, 0 to 16597\n",
      "Data columns (total 11 columns):\n",
      " #   Column        Non-Null Count  Dtype  \n",
      "---  ------        --------------  -----  \n",
      " 0   Rank          16598 non-null  int64  \n",
      " 1   Name          16598 non-null  object \n",
      " 2   Platform      16598 non-null  object \n",
      " 3   Year          16327 non-null  float64\n",
      " 4   Genre         16598 non-null  object \n",
      " 5   Publisher     16540 non-null  object \n",
      " 6   NA_Sales      16598 non-null  float64\n",
      " 7   EU_Sales      16598 non-null  float64\n",
      " 8   JP_Sales      16598 non-null  float64\n",
      " 9   Other_Sales   16598 non-null  float64\n",
      " 10  Global_Sales  16598 non-null  float64\n",
      "dtypes: float64(6), int64(1), object(4)\n",
      "memory usage: 1.4+ MB\n",
      "None\n"
     ]
    }
   ],
   "source": [
    "#Display the shape and basic information about the dataset.\n",
    "import pandas as pd\n",
    "path=r'C:\\Users\\user\\Documents\\AFRICA DATA SCHOOL\\vgsales.csv'\n",
    "VG=pd.read_csv(path)\n",
    "#print(VG.head(10))\n",
    "print(\"Shape of the dataset:\", VG.shape)\n",
    "\n",
    "# display basic information about the dataset\n",
    "print(\"\\nInformation about the dataset:\")\n",
    "print(VG.info())\n",
    "\n"
   ]
  },
  {
   "cell_type": "markdown",
   "id": "36acb4f8-44c5-4678-9420-e537a48b1f5f",
   "metadata": {},
   "source": [
    "How to Check for missing data and handle it appropriately."
   ]
  },
  {
   "cell_type": "code",
   "execution_count": 12,
   "id": "a8b2f3fe-4ea9-49df-95d0-7b00ecb60bd1",
   "metadata": {
    "tags": []
   },
   "outputs": [
    {
     "name": "stdout",
     "output_type": "stream",
     "text": [
      "Shape of the dataset: (16598, 11)\n",
      "\n",
      "Information about the dataset:\n",
      "<class 'pandas.core.frame.DataFrame'>\n",
      "RangeIndex: 16598 entries, 0 to 16597\n",
      "Data columns (total 11 columns):\n",
      " #   Column        Non-Null Count  Dtype  \n",
      "---  ------        --------------  -----  \n",
      " 0   Rank          16598 non-null  int64  \n",
      " 1   Name          16598 non-null  object \n",
      " 2   Platform      16598 non-null  object \n",
      " 3   Year          16327 non-null  float64\n",
      " 4   Genre         16598 non-null  object \n",
      " 5   Publisher     16540 non-null  object \n",
      " 6   NA_Sales      16598 non-null  float64\n",
      " 7   EU_Sales      16598 non-null  float64\n",
      " 8   JP_Sales      16598 non-null  float64\n",
      " 9   Other_Sales   16598 non-null  float64\n",
      " 10  Global_Sales  16598 non-null  float64\n",
      "dtypes: float64(6), int64(1), object(4)\n",
      "memory usage: 1.4+ MB\n",
      "None\n",
      "Number of missing values in each column:\n",
      "Rank              0\n",
      "Name              0\n",
      "Platform          0\n",
      "Year            271\n",
      "Genre             0\n",
      "Publisher        58\n",
      "NA_Sales          0\n",
      "EU_Sales          0\n",
      "JP_Sales          0\n",
      "Other_Sales       0\n",
      "Global_Sales      0\n",
      "dtype: int64\n"
     ]
    }
   ],
   "source": [
    "#Display the shape and basic information about the dataset.\n",
    "import pandas as pd\n",
    "path=r'C:\\Users\\user\\Documents\\AFRICA DATA SCHOOL\\vgsales.csv'\n",
    "VG=pd.read_csv(path)\n",
    "#print(VG.head(10))\n",
    "print(\"Shape of the dataset:\", VG.shape)\n",
    "\n",
    "# display basic information about the dataset\n",
    "print(\"\\nInformation about the dataset:\")\n",
    "print(VG.info())\n",
    "print(\"Number of missing values in each column:\")\n",
    "print(VG.isna().sum())\n",
    "VG.dropna(inplace=True)  # drop rows with missing values\n",
    "VG.fillna(0, inplace=True)  # fill missing values with 0"
   ]
  },
  {
   "cell_type": "markdown",
   "id": "12f02e1a-bd89-4a7d-af6b-dbbbaf98a7d5",
   "metadata": {},
   "source": [
    "Display the top 5 video games by global sale"
   ]
  },
  {
   "cell_type": "code",
   "execution_count": 2,
   "id": "af953ed2-a57e-444f-aa96-5837fcf11f25",
   "metadata": {
    "tags": []
   },
   "outputs": [
    {
     "name": "stdout",
     "output_type": "stream",
     "text": [
      "   Rank                      Name Platform  Global_Sales\n",
      "0     1                Wii Sports      Wii         82.74\n",
      "1     2         Super Mario Bros.      NES         40.24\n",
      "2     3            Mario Kart Wii      Wii         35.82\n",
      "3     4         Wii Sports Resort      Wii         33.00\n",
      "4     5  Pokemon Red/Pokemon Blue       GB         31.37\n"
     ]
    }
   ],
   "source": [
    "#Display the shape and basic information about the dataset.\n",
    "import pandas as pd\n",
    "path=r'C:\\Users\\user\\Documents\\AFRICA DATA SCHOOL\\vgsales.csv'\n",
    "VG=pd.read_csv(path)import pandas as pd\n",
    "path=r'C:\\Users\\user\\Documents\\AFRICA DATA SCHOOL\\vgsales.csv'\n",
    "VG=pd.read_csv(path)import pandas as pd\n",
    "path=r'C:\\Users\\user\\Documents\\AFRICA DATA SCHOOL\\vgsales.csv'\n",
    "VG=pd.read_csv(path)\n",
    "#print(VG.head(10))\n",
    "#print(\"Shape of the dataset:\", VG.shape)\n",
    "\n",
    "# display basic information about the dataset\n",
    "#print(\"\\nInformation about the dataset:\")\n",
    "#print(VG.info())\n",
    "#print(\"Number of missing values in each column:\")\n",
    "#print(VG.isna().sum())\n",
    "#VG.dropna(inplace=True)  # drop rows with missing values\n",
    "#VG.fillna(0, inplace=True)  # fill missing values with 0\n",
    "VG_sorted = VG.sort_values(by=\"Global_Sales\", ascending=False)\n",
    "top_5 = VG_sorted.head(5)\n",
    "print(top_5[[\"Rank\", \"Name\", \"Platform\", \"Global_Sales\"]])"
   ]
  },
  {
   "cell_type": "markdown",
   "id": "2942f641-52dd-40b9-8c46-0d6d14e75337",
   "metadata": {},
   "source": [
    "Calculate the total sales in North America for the 'Action' genre."
   ]
  },
  {
   "cell_type": "code",
   "execution_count": 3,
   "id": "08f955b9-5377-4a60-b221-ca31d8bdf9be",
   "metadata": {
    "tags": []
   },
   "outputs": [
    {
     "name": "stdout",
     "output_type": "stream",
     "text": [
      "Total sales in North America for the 'Action' genre:  877.83\n"
     ]
    }
   ],
   "source": [
    "import pandas as pd\n",
    "path=r'C:\\Users\\user\\Documents\\AFRICA DATA SCHOOL\\vgsales.csv'\n",
    "VG=pd.read_csv(path)import pandas as pd\n",
    "path=r'C:\\Users\\user\\Documents\\AFRICA DATA SCHOOL\\vgsales.csv'\n",
    "VG=pd.read_csv(path)\n",
    "\n",
    "# Filter the DataFrame to include only the 'Action' genre\n",
    "action_VG = VG[VG['Genre'] == 'Action']\n",
    "\n",
    "# Calculate the total sales in North America for the 'Action' genre\n",
    "total_sales_na = action_VG['NA_Sales'].sum()\n",
    "\n",
    "# Display the total sales in North America for the 'Action' genre\n",
    "print(\"Total sales in North America for the 'Action' genre: \", total_sales_na)\n"
   ]
  },
  {
   "cell_type": "markdown",
   "id": "2327b4d9-4999-49d2-951c-547a23edfe4d",
   "metadata": {},
   "source": [
    "Find the top 3 publishers by global sales."
   ]
  },
  {
   "cell_type": "code",
   "execution_count": 4,
   "id": "8b649179-781a-4c28-9d59-8045397a185f",
   "metadata": {
    "tags": []
   },
   "outputs": [
    {
     "name": "stdout",
     "output_type": "stream",
     "text": [
      "Publisher\n",
      "Nintendo           1786.56\n",
      "Electronic Arts    1110.32\n",
      "Activision          727.46\n",
      "Name: Global_Sales, dtype: float64\n"
     ]
    }
   ],
   "source": [
    "import pandas as pd\n",
    "path=r'C:\\Users\\user\\Documents\\AFRICA DATA SCHOOL\\vgsales.csv'\n",
    "VG=pd.read_csv(path)\n",
    "#####\n",
    "# Group the DataFrame by publisher and sum the global sales for each publisher\n",
    "publisher_sales = VG.groupby('Publisher')['Global_Sales'].sum()\n",
    "\n",
    "# Sort the resulting Series by global sales in descending order\n",
    "sorted_sales = publisher_sales.sort_values(ascending=False)\n",
    "\n",
    "# Display the top 3 publishers by global sales\n",
    "top_3_publishers = sorted_sales.head(3)\n",
    "print(top_3_publishers)"
   ]
  },
  {
   "cell_type": "markdown",
   "id": "d70e0823-f5e6-4451-9e37-5364a5e6680b",
   "metadata": {},
   "source": [
    "Calculate the average sales in Europe for the 'Shooter' genre."
   ]
  },
  {
   "cell_type": "code",
   "execution_count": 5,
   "id": "6d7e9d0a-e80d-48f0-85b7-d52e67f22992",
   "metadata": {
    "tags": []
   },
   "outputs": [
    {
     "name": "stdout",
     "output_type": "stream",
     "text": [
      "Average sales in Europe for the 'Shooter' genre:  0.2391374045801527\n"
     ]
    }
   ],
   "source": [
    "import pandas as pd\n",
    "path=r'C:\\Users\\user\\Documents\\AFRICA DATA SCHOOL\\vgsales.csv'\n",
    "VG=pd.read_csv(path)\n",
    "#####\n",
    "# Filter the DataFrame to include only the 'Shooter' genre\n",
    "shooter_VG = VG[VG['Genre'] == 'Shooter']\n",
    "\n",
    "# Calculate the average sales in Europe for the 'Shooter' genre\n",
    "avg_sales_eu = shooter_VG['EU_Sales'].mean()\n",
    "\n",
    "# Display the average sales in Europe for the 'Shooter' genre\n",
    "print(\"Average sales in Europe for the 'Shooter' genre: \", avg_sales_eu)"
   ]
  },
  {
   "cell_type": "markdown",
   "id": "2c1f1ad4-4a6d-4e26-b420-6076abc6b1b7",
   "metadata": {},
   "source": [
    "Find the game with the highest sales in Japan in the 'Sports' genre."
   ]
  },
  {
   "cell_type": "code",
   "execution_count": 6,
   "id": "028ae313-bfb3-49e8-af13-df549c09c960",
   "metadata": {
    "tags": []
   },
   "outputs": [
    {
     "name": "stdout",
     "output_type": "stream",
     "text": [
      "Game with the highest sales in Japan in the 'Sports' genre:  Wii Sports\n"
     ]
    }
   ],
   "source": [
    "import pandas as pd\n",
    "path=r'C:\\Users\\user\\Documents\\AFRICA DATA SCHOOL\\vgsales.csv'\n",
    "VG=pd.read_csv(path)\n",
    "#####\n",
    "# Filter the DataFrame to include only the 'Sports' genre\n",
    "sports_VG = VG[VG['Genre'] == 'Sports']\n",
    "\n",
    "# Sort the resulting DataFrame by Japanese sales in descending order and display the top row\n",
    "highest_sales_jp = sports_VG.sort_values(by=['JP_Sales'], ascending=False).iloc[0]\n",
    "print(\"Game with the highest sales in Japan in the 'Sports' genre: \", highest_sales_jp['Name'])\n"
   ]
  },
  {
   "cell_type": "code",
   "execution_count": null,
   "id": "7587cde3-8433-4dc6-b086-3daae2ddb53d",
   "metadata": {},
   "outputs": [],
   "source": []
  }
 ],
 "metadata": {
  "kernelspec": {
   "display_name": "Python 3 (ipykernel)",
   "language": "python",
   "name": "python3"
  },
  "language_info": {
   "codemirror_mode": {
    "name": "ipython",
    "version": 3
   },
   "file_extension": ".py",
   "mimetype": "text/x-python",
   "name": "python",
   "nbconvert_exporter": "python",
   "pygments_lexer": "ipython3",
   "version": "3.11.3"
  }
 },
 "nbformat": 4,
 "nbformat_minor": 5
}
